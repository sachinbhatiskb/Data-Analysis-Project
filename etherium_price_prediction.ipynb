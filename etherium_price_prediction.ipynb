{
  "nbformat": 4,
  "nbformat_minor": 5,
  "metadata": {
    "kernelspec": {
      "display_name": "Python 3",
      "language": "python",
      "name": "python3"
    },
    "language_info": {
      "codemirror_mode": {
        "name": "ipython",
        "version": 3
      },
      "file_extension": ".py",
      "mimetype": "text/x-python",
      "name": "python",
      "nbconvert_exporter": "python",
      "pygments_lexer": "ipython3",
      "version": "3.8.1"
    },
    "colab": {
      "name": "etherium_price_prediction.ipynb",
      "provenance": [],
      "include_colab_link": true
    }
  },
  "cells": [
    {
      "cell_type": "markdown",
      "metadata": {
        "id": "view-in-github",
        "colab_type": "text"
      },
      "source": [
        "<a href=\"https://colab.research.google.com/github/sachinbhatiskb/Data-Analysis-Project/blob/master/etherium_price_prediction.ipynb\" target=\"_parent\"><img src=\"https://colab.research.google.com/assets/colab-badge.svg\" alt=\"Open In Colab\"/></a>"
      ]
    },
    {
      "cell_type": "markdown",
      "metadata": {
        "id": "dc468a5e"
      },
      "source": [
        "# Problem : To predict the price of etherium \n",
        "* crypto prices are extremely volatile, and the people who trade them are trying to capitalize on that volatility. \n",
        "* The value of one ETH was trending between 1800 USD and 2300 USD in July 2021.\n",
        "### ---------------------------------------------------------------------"
      ],
      "id": "dc468a5e"
    },
    {
      "cell_type": "markdown",
      "metadata": {
        "id": "82ce6a25"
      },
      "source": [
        "## What is Cryptocurrency ?\n",
        "* A cryptocurrency, crypto-currency, or crypto is a binary data designed to work as a medium of exchange wherein individual coin ownership records are stored in a ledger existing in a form of a computerized database using strong cryptography to secure transaction records, to control the creation of additional coins, and to verify the transfer of coin ownership.\n",
        "* Cryptocurrency does not exist in physical form (like paper money) and is typically not issued by a central authority.\n",
        "\n",
        "\n",
        "## What Is Ethereum?\n",
        "Ethereum is a blockchain platform with its own cryptocurrency, called Ether (ETH) or Ethereum, and its own programming language, called Solidity.\n",
        "\n",
        "As a blockchain network, Ethereum is a decentralized public ledger for verifying and recording transactions. The network's users can create, publish, monetize, and use applications on the platform, and use its Ether cryptocurrency as payment. Insiders call the decentralized applications on the network \"dapps.\"\n",
        "\n",
        "* Ethereum is an open-source blockchain-based platform used to create and share business, financial services, and entertainment applications.\n",
        "* Ethereum users pay fees to use dapps. The fees are called \"gas\" because they vary depending on the amount of computational power required.\n",
        "* Ethereum has its own associated cryptocurrency, Ether or ETH.\n",
        "* bIts cryptocurrency is now second only to Bitcoin in market value.\n",
        "\n",
        "## What Is Ethereum in Simple Terms?\n",
        "* Ethereum, like any blockchain, is a database of information that is designed to be unhackable. Ether, or ETH, is the cryptocurrency used to complete transactions on the blockchain.\n",
        "\n",
        "* Unlike in a traditional database, information in a blockchain is organized as a chronological \"chain\" made up of \"blocks\" of data. For instance, every transaction using an Ether coin must be verified and recorded as an additional block on that coin's unique blockchain.\n",
        "\n",
        "## How Does Ethereum Make Money?\n",
        "* Users pay fees to use dapps on the Ethereum platform. These fees are called \"gas\" because they vary depending on the amount of computational power used\n",
        "\n",
        "### ------------------------------------------------------------------"
      ],
      "id": "82ce6a25"
    },
    {
      "cell_type": "markdown",
      "metadata": {
        "id": "f3b8444f"
      },
      "source": [
        "# Approach to solve Problem.\n",
        "\n",
        "1. First of all we will collect/load/Download the data.\n",
        "2. After having the data we will read that data in our jupyter notebook in the form of DataFrame.\n",
        "3. After creating dataframem we will analyse the data like no. of rows and columns.\n",
        "4. Then we try to process the data according to our need, we make necessary change adding or removing rows/columns etc.\n",
        "5. After some preprocessing then we will visualize the data for better understanding of the features , here we will look at the heatmap which tells about the correlation between different features or columns.\n",
        "6. After Visualizing we will select our feature to be used for model training.\n",
        "7. After data preparation we will split our data into training and testing set, so that we can paas them to our model for training and testing.\n",
        "8. After splitting data and visualizing our data sets we select the appropriate model for prediction , here we are using the Linear Regression model , because our data is showing Linear behaviour.\n",
        "9. After model building we will test the accuracy of our model and predict some test data or values using that model.\n",
        "10. in last we wiil save our model using pickle module, so if in future we want to use it we can just import and predict values insatntly.\n",
        "\n",
        "### ------------------------------------------------------------"
      ],
      "id": "f3b8444f"
    },
    {
      "cell_type": "code",
      "metadata": {
        "colab": {
          "base_uri": "https://localhost:8080/"
        },
        "id": "N8WOwcifWVXN",
        "outputId": "3ff10099-0f81-48bb-88c7-632dcc2d2261"
      },
      "source": [
        "from google.colab import drive\n",
        "drive.mount('/content/drive')"
      ],
      "id": "N8WOwcifWVXN",
      "execution_count": null,
      "outputs": [
        {
          "output_type": "stream",
          "text": [
            "Mounted at /content/drive\n"
          ],
          "name": "stdout"
        }
      ]
    },
    {
      "cell_type": "markdown",
      "metadata": {
        "id": "4e7a6e13"
      },
      "source": [
        "## Importing Libraries "
      ],
      "id": "4e7a6e13"
    },
    {
      "cell_type": "code",
      "metadata": {
        "id": "bfa971e9"
      },
      "source": [
        "import numpy as np \n",
        "import pandas as pd\n",
        "import matplotlib.pyplot as plt\n",
        "import seaborn as sns\n",
        "from sklearn.linear_model import LinearRegression\n",
        "from sklearn.model_selection import train_test_split"
      ],
      "id": "bfa971e9",
      "execution_count": null,
      "outputs": []
    },
    {
      "cell_type": "markdown",
      "metadata": {
        "id": "fdda2a21"
      },
      "source": [
        "\n",
        "\n",
        "## What is NumPy?\n",
        "NumPy is the fundamental package for scientific computing in Python. It is a Python library that provides a multidimensional array object, various derived objects (such as masked arrays and matrices), and an assortment of routines for fast operations on arrays, including mathematical, logical, shape manipulation, sorting, selecting, I/O, discrete Fourier transforms, basic linear algebra, basic statistical operations, random simulation and much more.\n",
        "\n",
        "\n",
        "\n",
        "## What Is Pandas?\n",
        "Pandas is an open source Python package that is most widely used for data science/data analysis and machine learning tasks. It is built on top of another package named Numpy, which provides support for multi-dimensional arrays. \n",
        "\n",
        "## What Can You Do With DataFrames Using Pandas?\n",
        "Pandas makes it simple to do many of the time consuming, repetitive tasks associated with working with data, including:\n",
        "\n",
        "* Data cleansing\n",
        "* Data fill\n",
        "* Data normalization\n",
        "* Merges and joins\n",
        "* Data visualization\n",
        "* Statistical analysis\n",
        "* Data inspection\n",
        "* Loading and saving data\n",
        "* And much more\n",
        "\n",
        "## What Is Python Matplotlib?\n",
        "* matplotlib.pyplot is a plotting library used for 2D graphics in python programming language. It can be used in python scripts, shell, web application servers and other graphical user interface toolkits.\n",
        "\n",
        "### Is Matplotlib Included in Python?\n",
        "\n",
        "* Matplotlib is not a part of the Standard Libraries which is installed by default when Python, there are several toolkits which are available that extend python matplotlib functionality. Some of them are separate downloads, others can be shipped with the matplotlib source code but have external dependencies.\n",
        "\n",
        "### Python Matplotlib : Types of Plots\n",
        "There are various plots which can be created using python matplotlib. \n",
        "\n",
        "## An introduction to seaborn\n",
        "Seaborn is a library for making statistical graphics in Python. It builds on top of matplotlib and integrates closely with pandas data structures.\n",
        "\n",
        "* Seaborn helps you explore and understand your data. Its plotting functions operate on dataframes and arrays containing whole datasets and internally perform the necessary semantic mapping and statistical aggregation to produce informative plots. Its dataset-oriented, declarative API lets you focus on what the different elements of your plots mean, rather than on the details of how to draw them\n",
        "\n",
        "## What is scikit-learn?\n",
        "Scikit-learn provides a range of supervised and unsupervised learning algorithms via a consistent interface in Python.\n",
        "\n",
        "The library is built upon the SciPy (Scientific Python) that must be installed before you can use scikit-learn. This stack that includes:\n",
        "\n",
        "* NumPy: Base n-dimensional array package\n",
        "* SciPy: Fundamental library for scientific computing\n",
        "* Matplotlib: Comprehensive 2D/3D plotting\n",
        "* IPython: Enhanced interactive console\n",
        "* Sympy: Symbolic mathematics\n",
        "* Pandas: Data structures and analysis\n",
        "\n",
        "Scikit-learn comes loaded with a lot of features. Here are a few of them to help you understand the spread:\n",
        "* Supervised learning algorithms\n",
        "* Unsupervised learning algorithms\n",
        "* Cross-validation\n",
        "* Various toy datasets\n",
        "* Feature extraction\n",
        "\n",
        "### --------------------------------------------------------------"
      ],
      "id": "fdda2a21"
    },
    {
      "cell_type": "markdown",
      "metadata": {
        "id": "abda1f53"
      },
      "source": [
        "# Loading the Data Set"
      ],
      "id": "abda1f53"
    },
    {
      "cell_type": "code",
      "metadata": {
        "colab": {
          "base_uri": "https://localhost:8080/",
          "height": 419
        },
        "id": "0785fa6d",
        "outputId": "d5260a40-8857-4b7e-85b5-742bcd21a40f"
      },
      "source": [
        "df= pd.read_csv('/content/drive/MyDrive/Project/Crypto Prediction/Etherium Prediction/ETH_1H.csv')\n",
        "df"
      ],
      "id": "0785fa6d",
      "execution_count": null,
      "outputs": [
        {
          "output_type": "execute_result",
          "data": {
            "text/html": [
              "<div>\n",
              "<style scoped>\n",
              "    .dataframe tbody tr th:only-of-type {\n",
              "        vertical-align: middle;\n",
              "    }\n",
              "\n",
              "    .dataframe tbody tr th {\n",
              "        vertical-align: top;\n",
              "    }\n",
              "\n",
              "    .dataframe thead th {\n",
              "        text-align: right;\n",
              "    }\n",
              "</style>\n",
              "<table border=\"1\" class=\"dataframe\">\n",
              "  <thead>\n",
              "    <tr style=\"text-align: right;\">\n",
              "      <th></th>\n",
              "      <th>Unix Timestamp</th>\n",
              "      <th>Date</th>\n",
              "      <th>Symbol</th>\n",
              "      <th>Open</th>\n",
              "      <th>High</th>\n",
              "      <th>Low</th>\n",
              "      <th>Close</th>\n",
              "      <th>Volume</th>\n",
              "    </tr>\n",
              "  </thead>\n",
              "  <tbody>\n",
              "    <tr>\n",
              "      <th>0</th>\n",
              "      <td>1586995200000</td>\n",
              "      <td>2020-04-16 00:00:00</td>\n",
              "      <td>ETHUSD</td>\n",
              "      <td>152.94</td>\n",
              "      <td>152.94</td>\n",
              "      <td>150.39</td>\n",
              "      <td>150.39</td>\n",
              "      <td>650.188125</td>\n",
              "    </tr>\n",
              "    <tr>\n",
              "      <th>1</th>\n",
              "      <td>1586991600000</td>\n",
              "      <td>2020-04-15 23:00:00</td>\n",
              "      <td>ETHUSD</td>\n",
              "      <td>155.81</td>\n",
              "      <td>155.81</td>\n",
              "      <td>151.39</td>\n",
              "      <td>152.94</td>\n",
              "      <td>4277.567299</td>\n",
              "    </tr>\n",
              "    <tr>\n",
              "      <th>2</th>\n",
              "      <td>1586988000000</td>\n",
              "      <td>2020-04-15 22:00:00</td>\n",
              "      <td>ETHUSD</td>\n",
              "      <td>157.18</td>\n",
              "      <td>157.30</td>\n",
              "      <td>155.32</td>\n",
              "      <td>155.81</td>\n",
              "      <td>106.337279</td>\n",
              "    </tr>\n",
              "    <tr>\n",
              "      <th>3</th>\n",
              "      <td>1586984400000</td>\n",
              "      <td>2020-04-15 21:00:00</td>\n",
              "      <td>ETHUSD</td>\n",
              "      <td>158.04</td>\n",
              "      <td>158.31</td>\n",
              "      <td>157.16</td>\n",
              "      <td>157.18</td>\n",
              "      <td>55.244131</td>\n",
              "    </tr>\n",
              "    <tr>\n",
              "      <th>4</th>\n",
              "      <td>1586980800000</td>\n",
              "      <td>2020-04-15 20:00:00</td>\n",
              "      <td>ETHUSD</td>\n",
              "      <td>157.10</td>\n",
              "      <td>158.10</td>\n",
              "      <td>156.87</td>\n",
              "      <td>158.04</td>\n",
              "      <td>144.262622</td>\n",
              "    </tr>\n",
              "    <tr>\n",
              "      <th>...</th>\n",
              "      <td>...</td>\n",
              "      <td>...</td>\n",
              "      <td>...</td>\n",
              "      <td>...</td>\n",
              "      <td>...</td>\n",
              "      <td>...</td>\n",
              "      <td>...</td>\n",
              "      <td>...</td>\n",
              "    </tr>\n",
              "    <tr>\n",
              "      <th>34492</th>\n",
              "      <td>1462813200</td>\n",
              "      <td>2016-05-09 17:00:00</td>\n",
              "      <td>ETHUSD</td>\n",
              "      <td>9.83</td>\n",
              "      <td>9.83</td>\n",
              "      <td>9.48</td>\n",
              "      <td>9.49</td>\n",
              "      <td>329.553213</td>\n",
              "    </tr>\n",
              "    <tr>\n",
              "      <th>34493</th>\n",
              "      <td>1462809600</td>\n",
              "      <td>2016-05-09 16:00:00</td>\n",
              "      <td>ETHUSD</td>\n",
              "      <td>9.99</td>\n",
              "      <td>9.99</td>\n",
              "      <td>9.79</td>\n",
              "      <td>9.83</td>\n",
              "      <td>62.379450</td>\n",
              "    </tr>\n",
              "    <tr>\n",
              "      <th>34494</th>\n",
              "      <td>1462806000</td>\n",
              "      <td>2016-05-09 15:00:00</td>\n",
              "      <td>ETHUSD</td>\n",
              "      <td>10.00</td>\n",
              "      <td>10.00</td>\n",
              "      <td>9.99</td>\n",
              "      <td>9.99</td>\n",
              "      <td>10.973567</td>\n",
              "    </tr>\n",
              "    <tr>\n",
              "      <th>34495</th>\n",
              "      <td>1462802400</td>\n",
              "      <td>2016-05-09 14:00:00</td>\n",
              "      <td>ETHUSD</td>\n",
              "      <td>9.55</td>\n",
              "      <td>10.00</td>\n",
              "      <td>9.55</td>\n",
              "      <td>10.00</td>\n",
              "      <td>235.774075</td>\n",
              "    </tr>\n",
              "    <tr>\n",
              "      <th>34496</th>\n",
              "      <td>1462798800</td>\n",
              "      <td>2016-05-09 13:00:00</td>\n",
              "      <td>ETHUSD</td>\n",
              "      <td>0.00</td>\n",
              "      <td>12.00</td>\n",
              "      <td>0.00</td>\n",
              "      <td>9.55</td>\n",
              "      <td>432.562115</td>\n",
              "    </tr>\n",
              "  </tbody>\n",
              "</table>\n",
              "<p>34497 rows × 8 columns</p>\n",
              "</div>"
            ],
            "text/plain": [
              "       Unix Timestamp                 Date  Symbol  ...     Low   Close       Volume\n",
              "0       1586995200000  2020-04-16 00:00:00  ETHUSD  ...  150.39  150.39   650.188125\n",
              "1       1586991600000  2020-04-15 23:00:00  ETHUSD  ...  151.39  152.94  4277.567299\n",
              "2       1586988000000  2020-04-15 22:00:00  ETHUSD  ...  155.32  155.81   106.337279\n",
              "3       1586984400000  2020-04-15 21:00:00  ETHUSD  ...  157.16  157.18    55.244131\n",
              "4       1586980800000  2020-04-15 20:00:00  ETHUSD  ...  156.87  158.04   144.262622\n",
              "...               ...                  ...     ...  ...     ...     ...          ...\n",
              "34492      1462813200  2016-05-09 17:00:00  ETHUSD  ...    9.48    9.49   329.553213\n",
              "34493      1462809600  2016-05-09 16:00:00  ETHUSD  ...    9.79    9.83    62.379450\n",
              "34494      1462806000  2016-05-09 15:00:00  ETHUSD  ...    9.99    9.99    10.973567\n",
              "34495      1462802400  2016-05-09 14:00:00  ETHUSD  ...    9.55   10.00   235.774075\n",
              "34496      1462798800  2016-05-09 13:00:00  ETHUSD  ...    0.00    9.55   432.562115\n",
              "\n",
              "[34497 rows x 8 columns]"
            ]
          },
          "metadata": {
            "tags": []
          },
          "execution_count": 4
        }
      ]
    },
    {
      "cell_type": "markdown",
      "metadata": {
        "id": "ef4c10de"
      },
      "source": [
        "# Data Preprocessing and Logic Implementation."
      ],
      "id": "ef4c10de"
    },
    {
      "cell_type": "code",
      "metadata": {
        "colab": {
          "base_uri": "https://localhost:8080/",
          "height": 669
        },
        "id": "a5d76912",
        "outputId": "ef9966f2-e7cd-4c5b-efe9-25f4dd38a29e"
      },
      "source": [
        "projection = 14    # variable for number of days to predict for future.\n",
        "# create a new column named prediction \n",
        "\n",
        "df['Prediction'] = df [['Close']].shift(-projection)\n",
        "df.head(20)"
      ],
      "id": "a5d76912",
      "execution_count": null,
      "outputs": [
        {
          "output_type": "execute_result",
          "data": {
            "text/html": [
              "<div>\n",
              "<style scoped>\n",
              "    .dataframe tbody tr th:only-of-type {\n",
              "        vertical-align: middle;\n",
              "    }\n",
              "\n",
              "    .dataframe tbody tr th {\n",
              "        vertical-align: top;\n",
              "    }\n",
              "\n",
              "    .dataframe thead th {\n",
              "        text-align: right;\n",
              "    }\n",
              "</style>\n",
              "<table border=\"1\" class=\"dataframe\">\n",
              "  <thead>\n",
              "    <tr style=\"text-align: right;\">\n",
              "      <th></th>\n",
              "      <th>Unix Timestamp</th>\n",
              "      <th>Date</th>\n",
              "      <th>Symbol</th>\n",
              "      <th>Open</th>\n",
              "      <th>High</th>\n",
              "      <th>Low</th>\n",
              "      <th>Close</th>\n",
              "      <th>Volume</th>\n",
              "      <th>Prediction</th>\n",
              "    </tr>\n",
              "  </thead>\n",
              "  <tbody>\n",
              "    <tr>\n",
              "      <th>0</th>\n",
              "      <td>1586995200000</td>\n",
              "      <td>2020-04-16 00:00:00</td>\n",
              "      <td>ETHUSD</td>\n",
              "      <td>152.94</td>\n",
              "      <td>152.94</td>\n",
              "      <td>150.39</td>\n",
              "      <td>150.39</td>\n",
              "      <td>650.188125</td>\n",
              "      <td>157.69</td>\n",
              "    </tr>\n",
              "    <tr>\n",
              "      <th>1</th>\n",
              "      <td>1586991600000</td>\n",
              "      <td>2020-04-15 23:00:00</td>\n",
              "      <td>ETHUSD</td>\n",
              "      <td>155.81</td>\n",
              "      <td>155.81</td>\n",
              "      <td>151.39</td>\n",
              "      <td>152.94</td>\n",
              "      <td>4277.567299</td>\n",
              "      <td>159.05</td>\n",
              "    </tr>\n",
              "    <tr>\n",
              "      <th>2</th>\n",
              "      <td>1586988000000</td>\n",
              "      <td>2020-04-15 22:00:00</td>\n",
              "      <td>ETHUSD</td>\n",
              "      <td>157.18</td>\n",
              "      <td>157.30</td>\n",
              "      <td>155.32</td>\n",
              "      <td>155.81</td>\n",
              "      <td>106.337279</td>\n",
              "      <td>158.77</td>\n",
              "    </tr>\n",
              "    <tr>\n",
              "      <th>3</th>\n",
              "      <td>1586984400000</td>\n",
              "      <td>2020-04-15 21:00:00</td>\n",
              "      <td>ETHUSD</td>\n",
              "      <td>158.04</td>\n",
              "      <td>158.31</td>\n",
              "      <td>157.16</td>\n",
              "      <td>157.18</td>\n",
              "      <td>55.244131</td>\n",
              "      <td>159.84</td>\n",
              "    </tr>\n",
              "    <tr>\n",
              "      <th>4</th>\n",
              "      <td>1586980800000</td>\n",
              "      <td>2020-04-15 20:00:00</td>\n",
              "      <td>ETHUSD</td>\n",
              "      <td>157.10</td>\n",
              "      <td>158.10</td>\n",
              "      <td>156.87</td>\n",
              "      <td>158.04</td>\n",
              "      <td>144.262622</td>\n",
              "      <td>160.21</td>\n",
              "    </tr>\n",
              "    <tr>\n",
              "      <th>5</th>\n",
              "      <td>1586977200000</td>\n",
              "      <td>2020-04-15 19:00:00</td>\n",
              "      <td>ETHUSD</td>\n",
              "      <td>157.78</td>\n",
              "      <td>157.84</td>\n",
              "      <td>157.10</td>\n",
              "      <td>157.10</td>\n",
              "      <td>329.356201</td>\n",
              "      <td>160.91</td>\n",
              "    </tr>\n",
              "    <tr>\n",
              "      <th>6</th>\n",
              "      <td>1586973600000</td>\n",
              "      <td>2020-04-15 18:00:00</td>\n",
              "      <td>ETHUSD</td>\n",
              "      <td>157.48</td>\n",
              "      <td>158.20</td>\n",
              "      <td>157.48</td>\n",
              "      <td>157.78</td>\n",
              "      <td>520.137463</td>\n",
              "      <td>159.97</td>\n",
              "    </tr>\n",
              "    <tr>\n",
              "      <th>7</th>\n",
              "      <td>1586970000000</td>\n",
              "      <td>2020-04-15 17:00:00</td>\n",
              "      <td>ETHUSD</td>\n",
              "      <td>157.12</td>\n",
              "      <td>157.78</td>\n",
              "      <td>156.90</td>\n",
              "      <td>157.48</td>\n",
              "      <td>156.552221</td>\n",
              "      <td>160.62</td>\n",
              "    </tr>\n",
              "    <tr>\n",
              "      <th>8</th>\n",
              "      <td>1586966400000</td>\n",
              "      <td>2020-04-15 16:00:00</td>\n",
              "      <td>ETHUSD</td>\n",
              "      <td>155.81</td>\n",
              "      <td>157.52</td>\n",
              "      <td>155.74</td>\n",
              "      <td>157.12</td>\n",
              "      <td>430.083035</td>\n",
              "      <td>160.27</td>\n",
              "    </tr>\n",
              "    <tr>\n",
              "      <th>9</th>\n",
              "      <td>1586962800000</td>\n",
              "      <td>2020-04-15 15:00:00</td>\n",
              "      <td>ETHUSD</td>\n",
              "      <td>157.12</td>\n",
              "      <td>157.15</td>\n",
              "      <td>155.81</td>\n",
              "      <td>155.81</td>\n",
              "      <td>303.839541</td>\n",
              "      <td>158.50</td>\n",
              "    </tr>\n",
              "    <tr>\n",
              "      <th>10</th>\n",
              "      <td>1586959200000</td>\n",
              "      <td>2020-04-15 14:00:00</td>\n",
              "      <td>ETHUSD</td>\n",
              "      <td>156.57</td>\n",
              "      <td>158.09</td>\n",
              "      <td>156.57</td>\n",
              "      <td>157.12</td>\n",
              "      <td>747.870220</td>\n",
              "      <td>157.12</td>\n",
              "    </tr>\n",
              "    <tr>\n",
              "      <th>11</th>\n",
              "      <td>1586955600000</td>\n",
              "      <td>2020-04-15 13:00:00</td>\n",
              "      <td>ETHUSD</td>\n",
              "      <td>156.46</td>\n",
              "      <td>157.67</td>\n",
              "      <td>155.50</td>\n",
              "      <td>156.57</td>\n",
              "      <td>320.060172</td>\n",
              "      <td>158.61</td>\n",
              "    </tr>\n",
              "    <tr>\n",
              "      <th>12</th>\n",
              "      <td>1586952000000</td>\n",
              "      <td>2020-04-15 12:00:00</td>\n",
              "      <td>ETHUSD</td>\n",
              "      <td>157.45</td>\n",
              "      <td>157.76</td>\n",
              "      <td>155.58</td>\n",
              "      <td>156.46</td>\n",
              "      <td>1922.313877</td>\n",
              "      <td>159.92</td>\n",
              "    </tr>\n",
              "    <tr>\n",
              "      <th>13</th>\n",
              "      <td>1586948400000</td>\n",
              "      <td>2020-04-15 11:00:00</td>\n",
              "      <td>ETHUSD</td>\n",
              "      <td>157.69</td>\n",
              "      <td>158.26</td>\n",
              "      <td>157.09</td>\n",
              "      <td>157.45</td>\n",
              "      <td>993.970288</td>\n",
              "      <td>159.12</td>\n",
              "    </tr>\n",
              "    <tr>\n",
              "      <th>14</th>\n",
              "      <td>1586944800000</td>\n",
              "      <td>2020-04-15 10:00:00</td>\n",
              "      <td>ETHUSD</td>\n",
              "      <td>159.05</td>\n",
              "      <td>159.76</td>\n",
              "      <td>157.25</td>\n",
              "      <td>157.69</td>\n",
              "      <td>866.472222</td>\n",
              "      <td>159.36</td>\n",
              "    </tr>\n",
              "    <tr>\n",
              "      <th>15</th>\n",
              "      <td>1586941200000</td>\n",
              "      <td>2020-04-15 09:00:00</td>\n",
              "      <td>ETHUSD</td>\n",
              "      <td>158.77</td>\n",
              "      <td>159.41</td>\n",
              "      <td>157.88</td>\n",
              "      <td>159.05</td>\n",
              "      <td>108.160041</td>\n",
              "      <td>160.70</td>\n",
              "    </tr>\n",
              "    <tr>\n",
              "      <th>16</th>\n",
              "      <td>1586937600000</td>\n",
              "      <td>2020-04-15 08:00:00</td>\n",
              "      <td>ETHUSD</td>\n",
              "      <td>159.84</td>\n",
              "      <td>160.02</td>\n",
              "      <td>158.44</td>\n",
              "      <td>158.77</td>\n",
              "      <td>96.255414</td>\n",
              "      <td>160.63</td>\n",
              "    </tr>\n",
              "    <tr>\n",
              "      <th>17</th>\n",
              "      <td>1586934000000</td>\n",
              "      <td>2020-04-15 07:00:00</td>\n",
              "      <td>ETHUSD</td>\n",
              "      <td>160.21</td>\n",
              "      <td>160.21</td>\n",
              "      <td>159.56</td>\n",
              "      <td>159.84</td>\n",
              "      <td>57.714281</td>\n",
              "      <td>159.84</td>\n",
              "    </tr>\n",
              "    <tr>\n",
              "      <th>18</th>\n",
              "      <td>1586930400000</td>\n",
              "      <td>2020-04-15 06:00:00</td>\n",
              "      <td>ETHUSD</td>\n",
              "      <td>160.91</td>\n",
              "      <td>161.52</td>\n",
              "      <td>160.07</td>\n",
              "      <td>160.21</td>\n",
              "      <td>113.101882</td>\n",
              "      <td>161.72</td>\n",
              "    </tr>\n",
              "    <tr>\n",
              "      <th>19</th>\n",
              "      <td>1586926800000</td>\n",
              "      <td>2020-04-15 05:00:00</td>\n",
              "      <td>ETHUSD</td>\n",
              "      <td>159.97</td>\n",
              "      <td>160.91</td>\n",
              "      <td>159.89</td>\n",
              "      <td>160.91</td>\n",
              "      <td>72.618334</td>\n",
              "      <td>160.17</td>\n",
              "    </tr>\n",
              "  </tbody>\n",
              "</table>\n",
              "</div>"
            ],
            "text/plain": [
              "    Unix Timestamp                 Date  ...       Volume  Prediction\n",
              "0    1586995200000  2020-04-16 00:00:00  ...   650.188125      157.69\n",
              "1    1586991600000  2020-04-15 23:00:00  ...  4277.567299      159.05\n",
              "2    1586988000000  2020-04-15 22:00:00  ...   106.337279      158.77\n",
              "3    1586984400000  2020-04-15 21:00:00  ...    55.244131      159.84\n",
              "4    1586980800000  2020-04-15 20:00:00  ...   144.262622      160.21\n",
              "5    1586977200000  2020-04-15 19:00:00  ...   329.356201      160.91\n",
              "6    1586973600000  2020-04-15 18:00:00  ...   520.137463      159.97\n",
              "7    1586970000000  2020-04-15 17:00:00  ...   156.552221      160.62\n",
              "8    1586966400000  2020-04-15 16:00:00  ...   430.083035      160.27\n",
              "9    1586962800000  2020-04-15 15:00:00  ...   303.839541      158.50\n",
              "10   1586959200000  2020-04-15 14:00:00  ...   747.870220      157.12\n",
              "11   1586955600000  2020-04-15 13:00:00  ...   320.060172      158.61\n",
              "12   1586952000000  2020-04-15 12:00:00  ...  1922.313877      159.92\n",
              "13   1586948400000  2020-04-15 11:00:00  ...   993.970288      159.12\n",
              "14   1586944800000  2020-04-15 10:00:00  ...   866.472222      159.36\n",
              "15   1586941200000  2020-04-15 09:00:00  ...   108.160041      160.70\n",
              "16   1586937600000  2020-04-15 08:00:00  ...    96.255414      160.63\n",
              "17   1586934000000  2020-04-15 07:00:00  ...    57.714281      159.84\n",
              "18   1586930400000  2020-04-15 06:00:00  ...   113.101882      161.72\n",
              "19   1586926800000  2020-04-15 05:00:00  ...    72.618334      160.17\n",
              "\n",
              "[20 rows x 9 columns]"
            ]
          },
          "metadata": {
            "tags": []
          },
          "execution_count": 5
        }
      ]
    },
    {
      "cell_type": "code",
      "metadata": {
        "colab": {
          "base_uri": "https://localhost:8080/",
          "height": 204
        },
        "id": "ab8d76fa",
        "outputId": "8f0d48e2-cc56-418b-8e30-be717acdb359"
      },
      "source": [
        "df.tail()"
      ],
      "id": "ab8d76fa",
      "execution_count": null,
      "outputs": [
        {
          "output_type": "execute_result",
          "data": {
            "text/html": [
              "<div>\n",
              "<style scoped>\n",
              "    .dataframe tbody tr th:only-of-type {\n",
              "        vertical-align: middle;\n",
              "    }\n",
              "\n",
              "    .dataframe tbody tr th {\n",
              "        vertical-align: top;\n",
              "    }\n",
              "\n",
              "    .dataframe thead th {\n",
              "        text-align: right;\n",
              "    }\n",
              "</style>\n",
              "<table border=\"1\" class=\"dataframe\">\n",
              "  <thead>\n",
              "    <tr style=\"text-align: right;\">\n",
              "      <th></th>\n",
              "      <th>Unix Timestamp</th>\n",
              "      <th>Date</th>\n",
              "      <th>Symbol</th>\n",
              "      <th>Open</th>\n",
              "      <th>High</th>\n",
              "      <th>Low</th>\n",
              "      <th>Close</th>\n",
              "      <th>Volume</th>\n",
              "      <th>Prediction</th>\n",
              "    </tr>\n",
              "  </thead>\n",
              "  <tbody>\n",
              "    <tr>\n",
              "      <th>34492</th>\n",
              "      <td>1462813200</td>\n",
              "      <td>2016-05-09 17:00:00</td>\n",
              "      <td>ETHUSD</td>\n",
              "      <td>9.83</td>\n",
              "      <td>9.83</td>\n",
              "      <td>9.48</td>\n",
              "      <td>9.49</td>\n",
              "      <td>329.553213</td>\n",
              "      <td>NaN</td>\n",
              "    </tr>\n",
              "    <tr>\n",
              "      <th>34493</th>\n",
              "      <td>1462809600</td>\n",
              "      <td>2016-05-09 16:00:00</td>\n",
              "      <td>ETHUSD</td>\n",
              "      <td>9.99</td>\n",
              "      <td>9.99</td>\n",
              "      <td>9.79</td>\n",
              "      <td>9.83</td>\n",
              "      <td>62.379450</td>\n",
              "      <td>NaN</td>\n",
              "    </tr>\n",
              "    <tr>\n",
              "      <th>34494</th>\n",
              "      <td>1462806000</td>\n",
              "      <td>2016-05-09 15:00:00</td>\n",
              "      <td>ETHUSD</td>\n",
              "      <td>10.00</td>\n",
              "      <td>10.00</td>\n",
              "      <td>9.99</td>\n",
              "      <td>9.99</td>\n",
              "      <td>10.973567</td>\n",
              "      <td>NaN</td>\n",
              "    </tr>\n",
              "    <tr>\n",
              "      <th>34495</th>\n",
              "      <td>1462802400</td>\n",
              "      <td>2016-05-09 14:00:00</td>\n",
              "      <td>ETHUSD</td>\n",
              "      <td>9.55</td>\n",
              "      <td>10.00</td>\n",
              "      <td>9.55</td>\n",
              "      <td>10.00</td>\n",
              "      <td>235.774075</td>\n",
              "      <td>NaN</td>\n",
              "    </tr>\n",
              "    <tr>\n",
              "      <th>34496</th>\n",
              "      <td>1462798800</td>\n",
              "      <td>2016-05-09 13:00:00</td>\n",
              "      <td>ETHUSD</td>\n",
              "      <td>0.00</td>\n",
              "      <td>12.00</td>\n",
              "      <td>0.00</td>\n",
              "      <td>9.55</td>\n",
              "      <td>432.562115</td>\n",
              "      <td>NaN</td>\n",
              "    </tr>\n",
              "  </tbody>\n",
              "</table>\n",
              "</div>"
            ],
            "text/plain": [
              "       Unix Timestamp                 Date  ...      Volume  Prediction\n",
              "34492      1462813200  2016-05-09 17:00:00  ...  329.553213         NaN\n",
              "34493      1462809600  2016-05-09 16:00:00  ...   62.379450         NaN\n",
              "34494      1462806000  2016-05-09 15:00:00  ...   10.973567         NaN\n",
              "34495      1462802400  2016-05-09 14:00:00  ...  235.774075         NaN\n",
              "34496      1462798800  2016-05-09 13:00:00  ...  432.562115         NaN\n",
              "\n",
              "[5 rows x 9 columns]"
            ]
          },
          "metadata": {
            "tags": []
          },
          "execution_count": 7
        }
      ]
    },
    {
      "cell_type": "code",
      "metadata": {
        "colab": {
          "base_uri": "https://localhost:8080/",
          "height": 357
        },
        "id": "51db0a4a",
        "outputId": "f0836f38-443a-41a0-fca1-86da048f918a"
      },
      "source": [
        "sns.heatmap(df.corr(), annot = True,cmap= 'coolwarm')"
      ],
      "id": "51db0a4a",
      "execution_count": null,
      "outputs": [
        {
          "output_type": "execute_result",
          "data": {
            "text/plain": [
              "<matplotlib.axes._subplots.AxesSubplot at 0x7f3c39b4de90>"
            ]
          },
          "metadata": {
            "tags": []
          },
          "execution_count": 8
        },
        {
          "output_type": "display_data",
          "data": {
            "image/png": "[encoded data removed]",
            "text/plain": [
              "<Figure size 432x288 with 2 Axes>"
            ]
          },
          "metadata": {
            "tags": [],
            "needs_background": "light"
          }
        }
      ]
    },
    {
      "cell_type": "code",
      "metadata": {
        "colab": {
          "base_uri": "https://localhost:8080/"
        },
        "id": "e21415e0",
        "outputId": "7f287465-dfa3-4766-da14-b182879bc9f6"
      },
      "source": [
        "#create independent dataset (x)\n",
        "x = np.array(df[['Close']]) \n",
        "x=x[:-projection]\n",
        "print(x)"
      ],
      "id": "e21415e0",
      "execution_count": null,
      "outputs": [
        {
          "output_type": "stream",
          "text": [
            "[[150.39]\n",
            " [152.94]\n",
            " [155.81]\n",
            " ...\n",
            " [  9.36]\n",
            " [  9.36]\n",
            " [  9.36]]\n"
          ],
          "name": "stdout"
        }
      ]
    },
    {
      "cell_type": "code",
      "metadata": {
        "colab": {
          "base_uri": "https://localhost:8080/"
        },
        "id": "b1503f7b",
        "outputId": "8ef398dc-7e41-4872-eeef-05ed820b5707"
      },
      "source": [
        "y= df['Prediction'].values\n",
        "y= y[:-projection]\n",
        "print(y)"
      ],
      "id": "b1503f7b",
      "execution_count": null,
      "outputs": [
        {
          "output_type": "stream",
          "text": [
            "[157.69 159.05 158.77 ...   9.99  10.     9.55]\n"
          ],
          "name": "stdout"
        }
      ]
    },
    {
      "cell_type": "markdown",
      "metadata": {
        "id": "edfcdf64"
      },
      "source": [
        "# Splitting and visualizing Data"
      ],
      "id": "edfcdf64"
    },
    {
      "cell_type": "code",
      "metadata": {
        "id": "0d4f0880"
      },
      "source": [
        "x_train, x_test, y_train, y_test = train_test_split(x,y, test_size = .20)"
      ],
      "id": "0d4f0880",
      "execution_count": null,
      "outputs": []
    },
    {
      "cell_type": "code",
      "metadata": {
        "colab": {
          "base_uri": "https://localhost:8080/",
          "height": 295
        },
        "id": "69088939",
        "outputId": "f92cc9ea-9b80-46af-b5d5-4673ac05eb98"
      },
      "source": [
        "plt.scatter(x_test, y_test, color = \"red\")\n",
        "plt.title(\"Etherium price vs Predicted Price after 14 days (Training set)\")\n",
        "plt.xlabel(\"Etherium Price\")\n",
        "plt.ylabel(\"Prediction Price\")\n",
        "plt.show()"
      ],
      "id": "69088939",
      "execution_count": null,
      "outputs": [
        {
          "output_type": "display_data",
          "data": {
            "image/png": "[encoded data removed]",
            "text/plain": [
              "<Figure size 432x288 with 1 Axes>"
            ]
          },
          "metadata": {
            "tags": [],
            "needs_background": "light"
          }
        }
      ]
    },
    {
      "cell_type": "markdown",
      "metadata": {
        "id": "86ed31cf"
      },
      "source": [
        "# Model Building & testing"
      ],
      "id": "86ed31cf"
    },
    {
      "cell_type": "markdown",
      "metadata": {
        "id": "a8a4f3ec"
      },
      "source": [
        "## Linear regression \n",
        "\n",
        "* Linear Regression is a machine learning algorithm based on supervised learning. It performs a regression task. Regression models a target prediction value based on independent variables. It is mostly used for finding out the relationship between variables and forecasting. Different regression models differ based on – the kind of relationship between dependent and independent variables, they are considering and the number of independent variables being used.\n"
      ],
      "id": "a8a4f3ec"
    },
    {
      "cell_type": "code",
      "metadata": {
        "colab": {
          "base_uri": "https://localhost:8080/"
        },
        "id": "1da2dfc2",
        "outputId": "fc4f35b0-1f05-4004-f67d-dd10984b0abb"
      },
      "source": [
        "linReg = LinearRegression()\n",
        "#train the model\n",
        "linReg.fit(x_train, y_train)"
      ],
      "id": "1da2dfc2",
      "execution_count": null,
      "outputs": [
        {
          "output_type": "execute_result",
          "data": {
            "text/plain": [
              "LinearRegression(copy_X=True, fit_intercept=True, n_jobs=None, normalize=False)"
            ]
          },
          "metadata": {
            "tags": []
          },
          "execution_count": 13
        }
      ]
    },
    {
      "cell_type": "code",
      "metadata": {
        "colab": {
          "base_uri": "https://localhost:8080/"
        },
        "id": "3e6f2611",
        "outputId": "b20fff94-0a6a-477f-a3be-de306b5cedc5"
      },
      "source": [
        "#test the model using score \n",
        "linReg_confidense = linReg.score(x_test, y_test)\n",
        "print(\"Linear regression confidence :\", linReg_confidense)"
      ],
      "id": "3e6f2611",
      "execution_count": null,
      "outputs": [
        {
          "output_type": "stream",
          "text": [
            "Linear regression confidence : 0.9954581137566464\n"
          ],
          "name": "stdout"
        }
      ]
    },
    {
      "cell_type": "code",
      "metadata": {
        "colab": {
          "base_uri": "https://localhost:8080/"
        },
        "id": "d03f0e62",
        "outputId": "87057831-3e7d-4225-859f-e3300cac68ac"
      },
      "source": [
        "linReg_prediction = linReg.predict(x_test)\n",
        "print(linReg_prediction)"
      ],
      "id": "d03f0e62",
      "execution_count": null,
      "outputs": [
        {
          "output_type": "stream",
          "text": [
            "[ 843.90877778 1113.47535363   12.20334992 ...  730.52567747   11.61499435\n",
            "  106.0410785 ]\n"
          ],
          "name": "stdout"
        }
      ]
    },
    {
      "cell_type": "code",
      "metadata": {
        "colab": {
          "base_uri": "https://localhost:8080/"
        },
        "id": "824bb312",
        "outputId": "96b80f02-6522-43d3-c1a3-c32317a84323"
      },
      "source": [
        "y_test"
      ],
      "id": "824bb312",
      "execution_count": null,
      "outputs": [
        {
          "output_type": "execute_result",
          "data": {
            "text/plain": [
              "array([ 858.88, 1025.78,   11.45, ...,  642.39,   11.07,  106.85])"
            ]
          },
          "metadata": {
            "tags": []
          },
          "execution_count": 16
        }
      ]
    },
    {
      "cell_type": "code",
      "metadata": {
        "colab": {
          "base_uri": "https://localhost:8080/",
          "height": 295
        },
        "id": "f7e7fe6e",
        "outputId": "2ef4d59a-7bdf-49bd-e4e8-75211c8745fd"
      },
      "source": [
        "plt.scatter(x_test, y_test, color = \"red\")\n",
        "plt.plot(x_train, linReg.predict(x_train), color = \"green\")\n",
        "plt.title(\"Etherium price vs Predicted Price after 14 days (Training set)\")\n",
        "plt.xlabel(\"Etherium Price\")\n",
        "plt.ylabel(\"Predicted Price\")\n",
        "plt.show()"
      ],
      "id": "f7e7fe6e",
      "execution_count": null,
      "outputs": [
        {
          "output_type": "display_data",
          "data": {
            "image/png": "[encoded data removed]",
            "text/plain": [
              "<Figure size 432x288 with 1 Axes>"
            ]
          },
          "metadata": {
            "tags": [],
            "needs_background": "light"
          }
        }
      ]
    },
    {
      "cell_type": "markdown",
      "metadata": {
        "id": "96b26fe1"
      },
      "source": [
        "# Saving Model & Loading Model"
      ],
      "id": "96b26fe1"
    },
    {
      "cell_type": "code",
      "metadata": {
        "id": "27b8666a"
      },
      "source": [
        "import pickle\n",
        "# save the model to disk\n",
        "filename = 'ether_predictor.pkl'\n",
        "pickle.dump(linReg, open(filename, 'wb'))"
      ],
      "id": "27b8666a",
      "execution_count": null,
      "outputs": []
    },
    {
      "cell_type": "code",
      "metadata": {
        "colab": {
          "base_uri": "https://localhost:8080/"
        },
        "id": "eca0ebfd",
        "outputId": "36ca2149-5056-4b9e-f811-7a343c5a9369"
      },
      "source": [
        "# load the model from disk\n",
        "loaded_model = pickle.load(open(filename, 'rb'))\n",
        "result = loaded_model.score(x_test, y_test)\n",
        "print(result)"
      ],
      "id": "eca0ebfd",
      "execution_count": null,
      "outputs": [
        {
          "output_type": "stream",
          "text": [
            "0.9954581137566464\n"
          ],
          "name": "stdout"
        }
      ]
    },
    {
      "cell_type": "code",
      "metadata": {
        "colab": {
          "base_uri": "https://localhost:8080/"
        },
        "id": "57a4de28",
        "outputId": "2f0e7cea-6e30-4317-de28-3402860d3cf9"
      },
      "source": [
        "loaded_model.predict(x_test)"
      ],
      "id": "57a4de28",
      "execution_count": null,
      "outputs": [
        {
          "output_type": "execute_result",
          "data": {
            "text/plain": [
              "array([ 843.90877778, 1113.47535363,   12.20334992, ...,  730.52567747,\n",
              "         11.61499435,  106.0410785 ])"
            ]
          },
          "metadata": {
            "tags": []
          },
          "execution_count": 20
        }
      ]
    },
    {
      "cell_type": "markdown",
      "metadata": {
        "id": "d18df8d8"
      },
      "source": [
        "# THANK YOU !!!"
      ],
      "id": "d18df8d8"
    }
  ]
}